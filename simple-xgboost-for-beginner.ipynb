{
 "cells": [
  {
   "cell_type": "code",
   "execution_count": 1,
   "id": "4364a11e",
   "metadata": {
    "_cell_guid": "b1076dfc-b9ad-4769-8c92-a6c4dae69d19",
    "_uuid": "8f2839f25d086af736a60e9eeb907d3b93b6e0e5",
    "execution": {
     "iopub.execute_input": "2022-03-09T09:25:32.730570Z",
     "iopub.status.busy": "2022-03-09T09:25:32.729100Z",
     "iopub.status.idle": "2022-03-09T09:25:32.740491Z",
     "shell.execute_reply": "2022-03-09T09:25:32.741472Z",
     "shell.execute_reply.started": "2022-03-09T09:22:45.741364Z"
    },
    "papermill": {
     "duration": 0.05548,
     "end_time": "2022-03-09T09:25:32.741745",
     "exception": false,
     "start_time": "2022-03-09T09:25:32.686265",
     "status": "completed"
    },
    "tags": []
   },
   "outputs": [],
   "source": [
    "import numpy as np # linear algebra\n",
    "import pandas as pd # data processing, CSV file I/O (e.g. pd.read_csv)"
   ]
  },
  {
   "cell_type": "code",
   "execution_count": 2,
   "id": "d8c92148",
   "metadata": {
    "execution": {
     "iopub.execute_input": "2022-03-09T09:25:32.841230Z",
     "iopub.status.busy": "2022-03-09T09:25:32.840448Z",
     "iopub.status.idle": "2022-03-09T09:25:35.695657Z",
     "shell.execute_reply": "2022-03-09T09:25:35.696104Z",
     "shell.execute_reply.started": "2022-03-09T09:22:45.759924Z"
    },
    "papermill": {
     "duration": 2.916828,
     "end_time": "2022-03-09T09:25:35.696283",
     "exception": false,
     "start_time": "2022-03-09T09:25:32.779455",
     "status": "completed"
    },
    "tags": []
   },
   "outputs": [
    {
     "name": "stderr",
     "output_type": "stream",
     "text": [
      "/opt/conda/lib/python3.7/site-packages/numpy/lib/arraysetops.py:583: FutureWarning: elementwise comparison failed; returning scalar instead, but in the future will perform elementwise comparison\n",
      "  mask |= (ar1 == a)\n"
     ]
    }
   ],
   "source": [
    "train = pd.read_csv('../input/store-sales-time-series-forecasting/train.csv' , index_col = 'id')\n",
    "test =pd.read_csv('../input/store-sales-time-series-forecasting/test.csv' , index_col = 'id')\n",
    "submission = pd.read_csv('../input/store-sales-time-series-forecasting/sample_submission.csv')"
   ]
  },
  {
   "cell_type": "code",
   "execution_count": 3,
   "id": "a2477ea0",
   "metadata": {
    "execution": {
     "iopub.execute_input": "2022-03-09T09:25:35.750139Z",
     "iopub.status.busy": "2022-03-09T09:25:35.749536Z",
     "iopub.status.idle": "2022-03-09T09:25:35.762079Z",
     "shell.execute_reply": "2022-03-09T09:25:35.762477Z",
     "shell.execute_reply.started": "2022-03-09T09:22:51.142056Z"
    },
    "papermill": {
     "duration": 0.041873,
     "end_time": "2022-03-09T09:25:35.762601",
     "exception": false,
     "start_time": "2022-03-09T09:25:35.720728",
     "status": "completed"
    },
    "tags": []
   },
   "outputs": [
    {
     "data": {
      "text/html": [
       "<div>\n",
       "<style scoped>\n",
       "    .dataframe tbody tr th:only-of-type {\n",
       "        vertical-align: middle;\n",
       "    }\n",
       "\n",
       "    .dataframe tbody tr th {\n",
       "        vertical-align: top;\n",
       "    }\n",
       "\n",
       "    .dataframe thead th {\n",
       "        text-align: right;\n",
       "    }\n",
       "</style>\n",
       "<table border=\"1\" class=\"dataframe\">\n",
       "  <thead>\n",
       "    <tr style=\"text-align: right;\">\n",
       "      <th></th>\n",
       "      <th>date</th>\n",
       "      <th>store_nbr</th>\n",
       "      <th>family</th>\n",
       "      <th>sales</th>\n",
       "      <th>onpromotion</th>\n",
       "    </tr>\n",
       "    <tr>\n",
       "      <th>id</th>\n",
       "      <th></th>\n",
       "      <th></th>\n",
       "      <th></th>\n",
       "      <th></th>\n",
       "      <th></th>\n",
       "    </tr>\n",
       "  </thead>\n",
       "  <tbody>\n",
       "    <tr>\n",
       "      <th>0</th>\n",
       "      <td>2013-01-01</td>\n",
       "      <td>1</td>\n",
       "      <td>AUTOMOTIVE</td>\n",
       "      <td>0.0</td>\n",
       "      <td>0</td>\n",
       "    </tr>\n",
       "    <tr>\n",
       "      <th>1</th>\n",
       "      <td>2013-01-01</td>\n",
       "      <td>1</td>\n",
       "      <td>BABY CARE</td>\n",
       "      <td>0.0</td>\n",
       "      <td>0</td>\n",
       "    </tr>\n",
       "    <tr>\n",
       "      <th>2</th>\n",
       "      <td>2013-01-01</td>\n",
       "      <td>1</td>\n",
       "      <td>BEAUTY</td>\n",
       "      <td>0.0</td>\n",
       "      <td>0</td>\n",
       "    </tr>\n",
       "    <tr>\n",
       "      <th>3</th>\n",
       "      <td>2013-01-01</td>\n",
       "      <td>1</td>\n",
       "      <td>BEVERAGES</td>\n",
       "      <td>0.0</td>\n",
       "      <td>0</td>\n",
       "    </tr>\n",
       "    <tr>\n",
       "      <th>4</th>\n",
       "      <td>2013-01-01</td>\n",
       "      <td>1</td>\n",
       "      <td>BOOKS</td>\n",
       "      <td>0.0</td>\n",
       "      <td>0</td>\n",
       "    </tr>\n",
       "  </tbody>\n",
       "</table>\n",
       "</div>"
      ],
      "text/plain": [
       "          date  store_nbr      family  sales  onpromotion\n",
       "id                                                       \n",
       "0   2013-01-01          1  AUTOMOTIVE    0.0            0\n",
       "1   2013-01-01          1   BABY CARE    0.0            0\n",
       "2   2013-01-01          1      BEAUTY    0.0            0\n",
       "3   2013-01-01          1   BEVERAGES    0.0            0\n",
       "4   2013-01-01          1       BOOKS    0.0            0"
      ]
     },
     "execution_count": 3,
     "metadata": {},
     "output_type": "execute_result"
    }
   ],
   "source": [
    "train.head()"
   ]
  },
  {
   "cell_type": "code",
   "execution_count": 4,
   "id": "16e07f13",
   "metadata": {
    "execution": {
     "iopub.execute_input": "2022-03-09T09:25:35.822039Z",
     "iopub.status.busy": "2022-03-09T09:25:35.821143Z",
     "iopub.status.idle": "2022-03-09T09:25:35.825462Z",
     "shell.execute_reply": "2022-03-09T09:25:35.826126Z",
     "shell.execute_reply.started": "2022-03-09T09:22:52.729090Z"
    },
    "papermill": {
     "duration": 0.039483,
     "end_time": "2022-03-09T09:25:35.826301",
     "exception": false,
     "start_time": "2022-03-09T09:25:35.786818",
     "status": "completed"
    },
    "tags": []
   },
   "outputs": [
    {
     "name": "stdout",
     "output_type": "stream",
     "text": [
      "<class 'pandas.core.frame.DataFrame'>\n",
      "Int64Index: 3000888 entries, 0 to 3000887\n",
      "Data columns (total 5 columns):\n",
      " #   Column       Dtype  \n",
      "---  ------       -----  \n",
      " 0   date         object \n",
      " 1   store_nbr    int64  \n",
      " 2   family       object \n",
      " 3   sales        float64\n",
      " 4   onpromotion  int64  \n",
      "dtypes: float64(1), int64(2), object(2)\n",
      "memory usage: 137.4+ MB\n"
     ]
    }
   ],
   "source": [
    "train.info()"
   ]
  },
  {
   "cell_type": "code",
   "execution_count": 5,
   "id": "3f671382",
   "metadata": {
    "execution": {
     "iopub.execute_input": "2022-03-09T09:25:35.880624Z",
     "iopub.status.busy": "2022-03-09T09:25:35.879674Z",
     "iopub.status.idle": "2022-03-09T09:25:36.451592Z",
     "shell.execute_reply": "2022-03-09T09:25:36.452028Z",
     "shell.execute_reply.started": "2022-03-09T09:22:53.343179Z"
    },
    "papermill": {
     "duration": 0.600839,
     "end_time": "2022-03-09T09:25:36.452183",
     "exception": false,
     "start_time": "2022-03-09T09:25:35.851344",
     "status": "completed"
    },
    "tags": []
   },
   "outputs": [
    {
     "data": {
      "text/plain": [
       "date           0\n",
       "store_nbr      0\n",
       "family         0\n",
       "sales          0\n",
       "onpromotion    0\n",
       "dtype: int64"
      ]
     },
     "execution_count": 5,
     "metadata": {},
     "output_type": "execute_result"
    }
   ],
   "source": [
    "train.isnull().sum()"
   ]
  },
  {
   "cell_type": "code",
   "execution_count": 6,
   "id": "d050388a",
   "metadata": {
    "execution": {
     "iopub.execute_input": "2022-03-09T09:25:36.570652Z",
     "iopub.status.busy": "2022-03-09T09:25:36.568956Z",
     "iopub.status.idle": "2022-03-09T09:25:36.571243Z",
     "shell.execute_reply": "2022-03-09T09:25:36.571650Z",
     "shell.execute_reply.started": "2022-03-09T09:22:54.228821Z"
    },
    "papermill": {
     "duration": 0.094939,
     "end_time": "2022-03-09T09:25:36.571792",
     "exception": false,
     "start_time": "2022-03-09T09:25:36.476853",
     "status": "completed"
    },
    "tags": []
   },
   "outputs": [],
   "source": [
    "y = train['sales']\n",
    "train.drop(columns = ['sales'] , inplace = True , axis = 1)"
   ]
  },
  {
   "cell_type": "code",
   "execution_count": 7,
   "id": "8af12153",
   "metadata": {
    "execution": {
     "iopub.execute_input": "2022-03-09T09:25:36.629335Z",
     "iopub.status.busy": "2022-03-09T09:25:36.628559Z",
     "iopub.status.idle": "2022-03-09T09:25:36.680188Z",
     "shell.execute_reply": "2022-03-09T09:25:36.679706Z",
     "shell.execute_reply.started": "2022-03-09T09:22:54.505483Z"
    },
    "papermill": {
     "duration": 0.083657,
     "end_time": "2022-03-09T09:25:36.680317",
     "exception": false,
     "start_time": "2022-03-09T09:25:36.596660",
     "status": "completed"
    },
    "tags": []
   },
   "outputs": [
    {
     "data": {
      "text/plain": [
       "379610"
      ]
     },
     "execution_count": 7,
     "metadata": {},
     "output_type": "execute_result"
    }
   ],
   "source": [
    "y.nunique()"
   ]
  },
  {
   "cell_type": "code",
   "execution_count": 8,
   "id": "149c7e18",
   "metadata": {
    "execution": {
     "iopub.execute_input": "2022-03-09T09:25:36.884393Z",
     "iopub.status.busy": "2022-03-09T09:25:36.883581Z",
     "iopub.status.idle": "2022-03-09T09:25:36.940880Z",
     "shell.execute_reply": "2022-03-09T09:25:36.941445Z",
     "shell.execute_reply.started": "2022-03-09T09:22:55.229938Z"
    },
    "papermill": {
     "duration": 0.236049,
     "end_time": "2022-03-09T09:25:36.941592",
     "exception": false,
     "start_time": "2022-03-09T09:25:36.705543",
     "status": "completed"
    },
    "tags": []
   },
   "outputs": [
    {
     "data": {
      "text/plain": [
       "33"
      ]
     },
     "execution_count": 8,
     "metadata": {},
     "output_type": "execute_result"
    }
   ],
   "source": [
    "train['family'].nunique()"
   ]
  },
  {
   "cell_type": "code",
   "execution_count": 9,
   "id": "6fb5cc3f",
   "metadata": {
    "execution": {
     "iopub.execute_input": "2022-03-09T09:25:37.002499Z",
     "iopub.status.busy": "2022-03-09T09:25:37.001568Z",
     "iopub.status.idle": "2022-03-09T09:25:37.007821Z",
     "shell.execute_reply": "2022-03-09T09:25:37.008259Z",
     "shell.execute_reply.started": "2022-03-09T09:22:55.512191Z"
    },
    "papermill": {
     "duration": 0.041085,
     "end_time": "2022-03-09T09:25:37.008382",
     "exception": false,
     "start_time": "2022-03-09T09:25:36.967297",
     "status": "completed"
    },
    "tags": []
   },
   "outputs": [
    {
     "data": {
      "text/plain": [
       "date           0\n",
       "store_nbr      0\n",
       "family         0\n",
       "onpromotion    0\n",
       "dtype: int64"
      ]
     },
     "execution_count": 9,
     "metadata": {},
     "output_type": "execute_result"
    }
   ],
   "source": [
    "test.isnull().sum()"
   ]
  },
  {
   "cell_type": "code",
   "execution_count": 10,
   "id": "b0b20af2",
   "metadata": {
    "execution": {
     "iopub.execute_input": "2022-03-09T09:25:37.066503Z",
     "iopub.status.busy": "2022-03-09T09:25:37.065589Z",
     "iopub.status.idle": "2022-03-09T09:25:37.070478Z",
     "shell.execute_reply": "2022-03-09T09:25:37.070848Z",
     "shell.execute_reply.started": "2022-03-09T09:22:55.803599Z"
    },
    "papermill": {
     "duration": 0.036655,
     "end_time": "2022-03-09T09:25:37.070998",
     "exception": false,
     "start_time": "2022-03-09T09:25:37.034343",
     "status": "completed"
    },
    "tags": []
   },
   "outputs": [
    {
     "data": {
      "text/plain": [
       "33"
      ]
     },
     "execution_count": 10,
     "metadata": {},
     "output_type": "execute_result"
    }
   ],
   "source": [
    "test['family'].nunique()"
   ]
  },
  {
   "cell_type": "code",
   "execution_count": 11,
   "id": "7b566266",
   "metadata": {
    "execution": {
     "iopub.execute_input": "2022-03-09T09:25:37.278015Z",
     "iopub.status.busy": "2022-03-09T09:25:37.277203Z",
     "iopub.status.idle": "2022-03-09T09:25:57.385672Z",
     "shell.execute_reply": "2022-03-09T09:25:57.385185Z",
     "shell.execute_reply.started": "2022-03-09T09:22:56.104470Z"
    },
    "papermill": {
     "duration": 20.288852,
     "end_time": "2022-03-09T09:25:57.385805",
     "exception": false,
     "start_time": "2022-03-09T09:25:37.096953",
     "status": "completed"
    },
    "tags": []
   },
   "outputs": [],
   "source": [
    "import datetime\n",
    "train['date_ti'] = pd.to_datetime(train['date'] , errors = 'coerce')\n",
    "train['date_conv'] = train['date_ti'].dt.strftime(\"%Y%m%d\").astype(int)"
   ]
  },
  {
   "cell_type": "code",
   "execution_count": 12,
   "id": "02c2be68",
   "metadata": {
    "execution": {
     "iopub.execute_input": "2022-03-09T09:25:57.442924Z",
     "iopub.status.busy": "2022-03-09T09:25:57.442318Z",
     "iopub.status.idle": "2022-03-09T09:25:57.444846Z",
     "shell.execute_reply": "2022-03-09T09:25:57.445252Z",
     "shell.execute_reply.started": "2022-03-09T09:23:17.102616Z"
    },
    "papermill": {
     "duration": 0.033096,
     "end_time": "2022-03-09T09:25:57.445369",
     "exception": false,
     "start_time": "2022-03-09T09:25:57.412273",
     "status": "completed"
    },
    "tags": []
   },
   "outputs": [
    {
     "data": {
      "text/plain": [
       "dtype('<M8[ns]')"
      ]
     },
     "execution_count": 12,
     "metadata": {},
     "output_type": "execute_result"
    }
   ],
   "source": [
    "train['date_ti'].dtype"
   ]
  },
  {
   "cell_type": "code",
   "execution_count": 13,
   "id": "4dec64d3",
   "metadata": {
    "execution": {
     "iopub.execute_input": "2022-03-09T09:25:57.501547Z",
     "iopub.status.busy": "2022-03-09T09:25:57.501060Z",
     "iopub.status.idle": "2022-03-09T09:25:57.607516Z",
     "shell.execute_reply": "2022-03-09T09:25:57.606871Z",
     "shell.execute_reply.started": "2022-03-09T09:23:17.112064Z"
    },
    "papermill": {
     "duration": 0.136178,
     "end_time": "2022-03-09T09:25:57.607648",
     "exception": false,
     "start_time": "2022-03-09T09:25:57.471470",
     "status": "completed"
    },
    "tags": []
   },
   "outputs": [],
   "source": [
    "train.drop(columns = ['date' , 'date_ti'] , axis = 1 , inplace = True)"
   ]
  },
  {
   "cell_type": "code",
   "execution_count": 14,
   "id": "01791f8e",
   "metadata": {
    "execution": {
     "iopub.execute_input": "2022-03-09T09:25:57.666778Z",
     "iopub.status.busy": "2022-03-09T09:25:57.666038Z",
     "iopub.status.idle": "2022-03-09T09:25:57.856153Z",
     "shell.execute_reply": "2022-03-09T09:25:57.856849Z",
     "shell.execute_reply.started": "2022-03-09T09:23:17.226758Z"
    },
    "papermill": {
     "duration": 0.222758,
     "end_time": "2022-03-09T09:25:57.856995",
     "exception": false,
     "start_time": "2022-03-09T09:25:57.634237",
     "status": "completed"
    },
    "tags": []
   },
   "outputs": [],
   "source": [
    "test['date'] = pd.to_datetime(test['date'] , errors = 'coerce')\n",
    "test['date_conv'] = test['date'].dt.strftime(\"%Y%m%d\").astype(int)"
   ]
  },
  {
   "cell_type": "code",
   "execution_count": 15,
   "id": "8282f600",
   "metadata": {
    "execution": {
     "iopub.execute_input": "2022-03-09T09:25:57.914816Z",
     "iopub.status.busy": "2022-03-09T09:25:57.914198Z",
     "iopub.status.idle": "2022-03-09T09:25:57.916314Z",
     "shell.execute_reply": "2022-03-09T09:25:57.916706Z",
     "shell.execute_reply.started": "2022-03-09T09:23:17.427915Z"
    },
    "papermill": {
     "duration": 0.03349,
     "end_time": "2022-03-09T09:25:57.916819",
     "exception": false,
     "start_time": "2022-03-09T09:25:57.883329",
     "status": "completed"
    },
    "tags": []
   },
   "outputs": [],
   "source": [
    "test.drop('date' , axis = 1 , inplace = True)"
   ]
  },
  {
   "cell_type": "code",
   "execution_count": 16,
   "id": "39b37991",
   "metadata": {
    "execution": {
     "iopub.execute_input": "2022-03-09T09:25:57.976538Z",
     "iopub.status.busy": "2022-03-09T09:25:57.975865Z",
     "iopub.status.idle": "2022-03-09T09:25:57.978638Z",
     "shell.execute_reply": "2022-03-09T09:25:57.979156Z",
     "shell.execute_reply.started": "2022-03-09T09:23:17.437336Z"
    },
    "papermill": {
     "duration": 0.036246,
     "end_time": "2022-03-09T09:25:57.979275",
     "exception": false,
     "start_time": "2022-03-09T09:25:57.943029",
     "status": "completed"
    },
    "tags": []
   },
   "outputs": [
    {
     "data": {
      "text/html": [
       "<div>\n",
       "<style scoped>\n",
       "    .dataframe tbody tr th:only-of-type {\n",
       "        vertical-align: middle;\n",
       "    }\n",
       "\n",
       "    .dataframe tbody tr th {\n",
       "        vertical-align: top;\n",
       "    }\n",
       "\n",
       "    .dataframe thead th {\n",
       "        text-align: right;\n",
       "    }\n",
       "</style>\n",
       "<table border=\"1\" class=\"dataframe\">\n",
       "  <thead>\n",
       "    <tr style=\"text-align: right;\">\n",
       "      <th></th>\n",
       "      <th>store_nbr</th>\n",
       "      <th>family</th>\n",
       "      <th>onpromotion</th>\n",
       "      <th>date_conv</th>\n",
       "    </tr>\n",
       "    <tr>\n",
       "      <th>id</th>\n",
       "      <th></th>\n",
       "      <th></th>\n",
       "      <th></th>\n",
       "      <th></th>\n",
       "    </tr>\n",
       "  </thead>\n",
       "  <tbody>\n",
       "    <tr>\n",
       "      <th>3000888</th>\n",
       "      <td>1</td>\n",
       "      <td>AUTOMOTIVE</td>\n",
       "      <td>0</td>\n",
       "      <td>20170816</td>\n",
       "    </tr>\n",
       "    <tr>\n",
       "      <th>3000889</th>\n",
       "      <td>1</td>\n",
       "      <td>BABY CARE</td>\n",
       "      <td>0</td>\n",
       "      <td>20170816</td>\n",
       "    </tr>\n",
       "    <tr>\n",
       "      <th>3000890</th>\n",
       "      <td>1</td>\n",
       "      <td>BEAUTY</td>\n",
       "      <td>2</td>\n",
       "      <td>20170816</td>\n",
       "    </tr>\n",
       "    <tr>\n",
       "      <th>3000891</th>\n",
       "      <td>1</td>\n",
       "      <td>BEVERAGES</td>\n",
       "      <td>20</td>\n",
       "      <td>20170816</td>\n",
       "    </tr>\n",
       "    <tr>\n",
       "      <th>3000892</th>\n",
       "      <td>1</td>\n",
       "      <td>BOOKS</td>\n",
       "      <td>0</td>\n",
       "      <td>20170816</td>\n",
       "    </tr>\n",
       "  </tbody>\n",
       "</table>\n",
       "</div>"
      ],
      "text/plain": [
       "         store_nbr      family  onpromotion  date_conv\n",
       "id                                                    \n",
       "3000888          1  AUTOMOTIVE            0   20170816\n",
       "3000889          1   BABY CARE            0   20170816\n",
       "3000890          1      BEAUTY            2   20170816\n",
       "3000891          1   BEVERAGES           20   20170816\n",
       "3000892          1       BOOKS            0   20170816"
      ]
     },
     "execution_count": 16,
     "metadata": {},
     "output_type": "execute_result"
    }
   ],
   "source": [
    "test.head()"
   ]
  },
  {
   "cell_type": "code",
   "execution_count": 17,
   "id": "d7611547",
   "metadata": {
    "execution": {
     "iopub.execute_input": "2022-03-09T09:25:58.088275Z",
     "iopub.status.busy": "2022-03-09T09:25:58.036215Z",
     "iopub.status.idle": "2022-03-09T09:25:58.929863Z",
     "shell.execute_reply": "2022-03-09T09:25:58.928710Z",
     "shell.execute_reply.started": "2022-03-09T09:23:17.452741Z"
    },
    "papermill": {
     "duration": 0.924546,
     "end_time": "2022-03-09T09:25:58.930023",
     "exception": false,
     "start_time": "2022-03-09T09:25:58.005477",
     "status": "completed"
    },
    "tags": []
   },
   "outputs": [],
   "source": [
    "train =pd.get_dummies(train)\n",
    "test = pd.get_dummies(test)"
   ]
  },
  {
   "cell_type": "code",
   "execution_count": 18,
   "id": "2459de8d",
   "metadata": {
    "execution": {
     "iopub.execute_input": "2022-03-09T09:25:58.989380Z",
     "iopub.status.busy": "2022-03-09T09:25:58.988625Z",
     "iopub.status.idle": "2022-03-09T09:26:05.673104Z",
     "shell.execute_reply": "2022-03-09T09:26:05.673487Z",
     "shell.execute_reply.started": "2022-03-09T09:24:30.098691Z"
    },
    "papermill": {
     "duration": 6.716248,
     "end_time": "2022-03-09T09:26:05.673633",
     "exception": false,
     "start_time": "2022-03-09T09:25:58.957385",
     "status": "completed"
    },
    "tags": []
   },
   "outputs": [
    {
     "data": {
      "text/plain": [
       "LinearRegression()"
      ]
     },
     "execution_count": 18,
     "metadata": {},
     "output_type": "execute_result"
    }
   ],
   "source": [
    "from sklearn.linear_model import LinearRegression\n",
    "model = LinearRegression()\n",
    "model.fit(train , y)"
   ]
  },
  {
   "cell_type": "code",
   "execution_count": 19,
   "id": "0be836d8",
   "metadata": {
    "execution": {
     "iopub.execute_input": "2022-03-09T09:26:05.731049Z",
     "iopub.status.busy": "2022-03-09T09:26:05.730506Z",
     "iopub.status.idle": "2022-03-09T09:26:05.734059Z",
     "shell.execute_reply": "2022-03-09T09:26:05.733610Z",
     "shell.execute_reply.started": "2022-03-09T04:40:29.483077Z"
    },
    "papermill": {
     "duration": 0.033352,
     "end_time": "2022-03-09T09:26:05.734174",
     "exception": false,
     "start_time": "2022-03-09T09:26:05.700822",
     "status": "completed"
    },
    "tags": []
   },
   "outputs": [],
   "source": [
    "# from xgboost import XGBRegressor\n",
    "# model = XGBRegressor()\n",
    "# model.fit(train , y)"
   ]
  },
  {
   "cell_type": "code",
   "execution_count": 20,
   "id": "6e208401",
   "metadata": {
    "execution": {
     "iopub.execute_input": "2022-03-09T09:26:05.795116Z",
     "iopub.status.busy": "2022-03-09T09:26:05.793976Z",
     "iopub.status.idle": "2022-03-09T09:26:06.496996Z",
     "shell.execute_reply": "2022-03-09T09:26:06.497865Z",
     "shell.execute_reply.started": "2022-03-09T09:24:41.266061Z"
    },
    "papermill": {
     "duration": 0.736074,
     "end_time": "2022-03-09T09:26:06.498124",
     "exception": false,
     "start_time": "2022-03-09T09:26:05.762050",
     "status": "completed"
    },
    "tags": []
   },
   "outputs": [],
   "source": [
    "train_pre = model.predict(train)"
   ]
  },
  {
   "cell_type": "code",
   "execution_count": null,
   "id": "238dcc89",
   "metadata": {
    "papermill": {
     "duration": 0.048665,
     "end_time": "2022-03-09T09:26:06.599947",
     "exception": false,
     "start_time": "2022-03-09T09:26:06.551282",
     "status": "completed"
    },
    "tags": []
   },
   "outputs": [],
   "source": []
  },
  {
   "cell_type": "markdown",
   "id": "c645e07d",
   "metadata": {
    "papermill": {
     "duration": 0.026735,
     "end_time": "2022-03-09T09:26:06.660465",
     "exception": false,
     "start_time": "2022-03-09T09:26:06.633730",
     "status": "completed"
    },
    "tags": []
   },
   "source": []
  },
  {
   "cell_type": "code",
   "execution_count": 21,
   "id": "4babf051",
   "metadata": {
    "execution": {
     "iopub.execute_input": "2022-03-09T09:26:06.720628Z",
     "iopub.status.busy": "2022-03-09T09:26:06.718303Z",
     "iopub.status.idle": "2022-03-09T09:26:06.728219Z",
     "shell.execute_reply": "2022-03-09T09:26:06.728655Z",
     "shell.execute_reply.started": "2022-03-09T09:24:50.567631Z"
    },
    "papermill": {
     "duration": 0.041486,
     "end_time": "2022-03-09T09:26:06.728810",
     "exception": false,
     "start_time": "2022-03-09T09:26:06.687324",
     "status": "completed"
    },
    "tags": []
   },
   "outputs": [],
   "source": [
    "pre  = model.predict(test)"
   ]
  },
  {
   "cell_type": "code",
   "execution_count": 22,
   "id": "596ac19f",
   "metadata": {
    "execution": {
     "iopub.execute_input": "2022-03-09T09:26:06.840170Z",
     "iopub.status.busy": "2022-03-09T09:26:06.838050Z",
     "iopub.status.idle": "2022-03-09T09:26:06.841241Z",
     "shell.execute_reply": "2022-03-09T09:26:06.841986Z",
     "shell.execute_reply.started": "2022-03-09T09:24:51.098932Z"
    },
    "papermill": {
     "duration": 0.062616,
     "end_time": "2022-03-09T09:26:06.842202",
     "exception": false,
     "start_time": "2022-03-09T09:26:06.779586",
     "status": "completed"
    },
    "tags": []
   },
   "outputs": [],
   "source": [
    "submission['sales'] = pre"
   ]
  },
  {
   "cell_type": "code",
   "execution_count": 23,
   "id": "e2e88ace",
   "metadata": {
    "execution": {
     "iopub.execute_input": "2022-03-09T09:26:06.912638Z",
     "iopub.status.busy": "2022-03-09T09:26:06.912105Z",
     "iopub.status.idle": "2022-03-09T09:26:06.914577Z",
     "shell.execute_reply": "2022-03-09T09:26:06.914998Z",
     "shell.execute_reply.started": "2022-03-09T09:24:53.288218Z"
    },
    "papermill": {
     "duration": 0.037234,
     "end_time": "2022-03-09T09:26:06.915118",
     "exception": false,
     "start_time": "2022-03-09T09:26:06.877884",
     "status": "completed"
    },
    "tags": []
   },
   "outputs": [
    {
     "data": {
      "text/html": [
       "<div>\n",
       "<style scoped>\n",
       "    .dataframe tbody tr th:only-of-type {\n",
       "        vertical-align: middle;\n",
       "    }\n",
       "\n",
       "    .dataframe tbody tr th {\n",
       "        vertical-align: top;\n",
       "    }\n",
       "\n",
       "    .dataframe thead th {\n",
       "        text-align: right;\n",
       "    }\n",
       "</style>\n",
       "<table border=\"1\" class=\"dataframe\">\n",
       "  <thead>\n",
       "    <tr style=\"text-align: right;\">\n",
       "      <th></th>\n",
       "      <th>id</th>\n",
       "      <th>sales</th>\n",
       "    </tr>\n",
       "  </thead>\n",
       "  <tbody>\n",
       "    <tr>\n",
       "      <th>0</th>\n",
       "      <td>3000888</td>\n",
       "      <td>5.732170</td>\n",
       "    </tr>\n",
       "    <tr>\n",
       "      <th>1</th>\n",
       "      <td>3000889</td>\n",
       "      <td>0.677065</td>\n",
       "    </tr>\n",
       "    <tr>\n",
       "      <th>2</th>\n",
       "      <td>3000890</td>\n",
       "      <td>37.600385</td>\n",
       "    </tr>\n",
       "    <tr>\n",
       "      <th>3</th>\n",
       "      <td>3000891</td>\n",
       "      <td>2566.718306</td>\n",
       "    </tr>\n",
       "    <tr>\n",
       "      <th>4</th>\n",
       "      <td>3000892</td>\n",
       "      <td>0.647817</td>\n",
       "    </tr>\n",
       "  </tbody>\n",
       "</table>\n",
       "</div>"
      ],
      "text/plain": [
       "        id        sales\n",
       "0  3000888     5.732170\n",
       "1  3000889     0.677065\n",
       "2  3000890    37.600385\n",
       "3  3000891  2566.718306\n",
       "4  3000892     0.647817"
      ]
     },
     "execution_count": 23,
     "metadata": {},
     "output_type": "execute_result"
    }
   ],
   "source": [
    "submission.head()"
   ]
  },
  {
   "cell_type": "code",
   "execution_count": 24,
   "id": "cd93a931",
   "metadata": {
    "execution": {
     "iopub.execute_input": "2022-03-09T09:26:06.973606Z",
     "iopub.status.busy": "2022-03-09T09:26:06.972759Z",
     "iopub.status.idle": "2022-03-09T09:26:07.065813Z",
     "shell.execute_reply": "2022-03-09T09:26:07.065356Z",
     "shell.execute_reply.started": "2022-03-09T09:24:53.671976Z"
    },
    "papermill": {
     "duration": 0.123001,
     "end_time": "2022-03-09T09:26:07.065948",
     "exception": false,
     "start_time": "2022-03-09T09:26:06.942947",
     "status": "completed"
    },
    "tags": []
   },
   "outputs": [],
   "source": [
    "submission.to_csv('submission.csv' , index = False)"
   ]
  },
  {
   "cell_type": "code",
   "execution_count": 25,
   "id": "9c73b44a",
   "metadata": {
    "execution": {
     "iopub.execute_input": "2022-03-09T09:26:07.124637Z",
     "iopub.status.busy": "2022-03-09T09:26:07.123644Z",
     "iopub.status.idle": "2022-03-09T09:26:07.132532Z",
     "shell.execute_reply": "2022-03-09T09:26:07.132118Z",
     "shell.execute_reply.started": "2022-03-09T09:24:56.554322Z"
    },
    "papermill": {
     "duration": 0.039285,
     "end_time": "2022-03-09T09:26:07.132630",
     "exception": false,
     "start_time": "2022-03-09T09:26:07.093345",
     "status": "completed"
    },
    "tags": []
   },
   "outputs": [
    {
     "data": {
      "text/html": [
       "<div>\n",
       "<style scoped>\n",
       "    .dataframe tbody tr th:only-of-type {\n",
       "        vertical-align: middle;\n",
       "    }\n",
       "\n",
       "    .dataframe tbody tr th {\n",
       "        vertical-align: top;\n",
       "    }\n",
       "\n",
       "    .dataframe thead th {\n",
       "        text-align: right;\n",
       "    }\n",
       "</style>\n",
       "<table border=\"1\" class=\"dataframe\">\n",
       "  <thead>\n",
       "    <tr style=\"text-align: right;\">\n",
       "      <th></th>\n",
       "      <th>id</th>\n",
       "      <th>sales</th>\n",
       "    </tr>\n",
       "  </thead>\n",
       "  <tbody>\n",
       "    <tr>\n",
       "      <th>0</th>\n",
       "      <td>3000888</td>\n",
       "      <td>5.732170</td>\n",
       "    </tr>\n",
       "    <tr>\n",
       "      <th>1</th>\n",
       "      <td>3000889</td>\n",
       "      <td>0.677065</td>\n",
       "    </tr>\n",
       "    <tr>\n",
       "      <th>2</th>\n",
       "      <td>3000890</td>\n",
       "      <td>37.600385</td>\n",
       "    </tr>\n",
       "    <tr>\n",
       "      <th>3</th>\n",
       "      <td>3000891</td>\n",
       "      <td>2566.718306</td>\n",
       "    </tr>\n",
       "    <tr>\n",
       "      <th>4</th>\n",
       "      <td>3000892</td>\n",
       "      <td>0.647817</td>\n",
       "    </tr>\n",
       "    <tr>\n",
       "      <th>...</th>\n",
       "      <td>...</td>\n",
       "      <td>...</td>\n",
       "    </tr>\n",
       "    <tr>\n",
       "      <th>28507</th>\n",
       "      <td>3029395</td>\n",
       "      <td>346.842092</td>\n",
       "    </tr>\n",
       "    <tr>\n",
       "      <th>28508</th>\n",
       "      <td>3029396</td>\n",
       "      <td>112.456862</td>\n",
       "    </tr>\n",
       "    <tr>\n",
       "      <th>28509</th>\n",
       "      <td>3029397</td>\n",
       "      <td>1169.321648</td>\n",
       "    </tr>\n",
       "    <tr>\n",
       "      <th>28510</th>\n",
       "      <td>3029398</td>\n",
       "      <td>185.075303</td>\n",
       "    </tr>\n",
       "    <tr>\n",
       "      <th>28511</th>\n",
       "      <td>3029399</td>\n",
       "      <td>37.547609</td>\n",
       "    </tr>\n",
       "  </tbody>\n",
       "</table>\n",
       "<p>28512 rows × 2 columns</p>\n",
       "</div>"
      ],
      "text/plain": [
       "            id        sales\n",
       "0      3000888     5.732170\n",
       "1      3000889     0.677065\n",
       "2      3000890    37.600385\n",
       "3      3000891  2566.718306\n",
       "4      3000892     0.647817\n",
       "...        ...          ...\n",
       "28507  3029395   346.842092\n",
       "28508  3029396   112.456862\n",
       "28509  3029397  1169.321648\n",
       "28510  3029398   185.075303\n",
       "28511  3029399    37.547609\n",
       "\n",
       "[28512 rows x 2 columns]"
      ]
     },
     "execution_count": 25,
     "metadata": {},
     "output_type": "execute_result"
    }
   ],
   "source": [
    "submission"
   ]
  },
  {
   "cell_type": "code",
   "execution_count": null,
   "id": "06e50250",
   "metadata": {
    "papermill": {
     "duration": 0.027444,
     "end_time": "2022-03-09T09:26:07.187805",
     "exception": false,
     "start_time": "2022-03-09T09:26:07.160361",
     "status": "completed"
    },
    "tags": []
   },
   "outputs": [],
   "source": []
  }
 ],
 "metadata": {
  "kernelspec": {
   "display_name": "Python 3",
   "language": "python",
   "name": "python3"
  },
  "language_info": {
   "codemirror_mode": {
    "name": "ipython",
    "version": 3
   },
   "file_extension": ".py",
   "mimetype": "text/x-python",
   "name": "python",
   "nbconvert_exporter": "python",
   "pygments_lexer": "ipython3",
   "version": "3.7.12"
  },
  "papermill": {
   "default_parameters": {},
   "duration": 43.452647,
   "end_time": "2022-03-09T09:26:07.823872",
   "environment_variables": {},
   "exception": null,
   "input_path": "__notebook__.ipynb",
   "output_path": "__notebook__.ipynb",
   "parameters": {},
   "start_time": "2022-03-09T09:25:24.371225",
   "version": "2.3.3"
  }
 },
 "nbformat": 4,
 "nbformat_minor": 5
}
